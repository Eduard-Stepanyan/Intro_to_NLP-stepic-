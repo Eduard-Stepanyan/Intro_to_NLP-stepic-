{
 "cells": [
  {
   "cell_type": "code",
   "execution_count": 11,
   "id": "7ebb1cc0-6016-4016-a8ee-988a30f22b71",
   "metadata": {},
   "outputs": [
    {
     "name": "stdout",
     "output_type": "stream",
     "text": [
      "Requirement already satisfied: gensim==3.8.2 in /opt/conda/lib/python3.8/site-packages (3.8.2)\n",
      "Requirement already satisfied: scipy>=1.0.0 in /opt/conda/lib/python3.8/site-packages (from gensim==3.8.2) (1.7.1)\n",
      "Requirement already satisfied: six>=1.5.0 in /opt/conda/lib/python3.8/site-packages (from gensim==3.8.2) (1.16.0)\n",
      "Requirement already satisfied: smart-open>=1.8.1 in /opt/conda/lib/python3.8/site-packages (from gensim==3.8.2) (7.0.4)\n",
      "Requirement already satisfied: numpy>=1.11.3 in /opt/conda/lib/python3.8/site-packages (from gensim==3.8.2) (1.22.4)\n",
      "Requirement already satisfied: wrapt in /opt/conda/lib/python3.8/site-packages (from smart-open>=1.8.1->gensim==3.8.2) (1.16.0)\n",
      "Note: you may need to restart the kernel to use updated packages.\n"
     ]
    }
   ],
   "source": [
    "pip install \"gensim==3.8.2\""
   ]
  },
  {
   "cell_type": "code",
   "execution_count": 12,
   "id": "55899309-9909-4bce-986c-b3bcfa126865",
   "metadata": {},
   "outputs": [],
   "source": [
    "import json\n",
    "from gensim.summarization import summarize, keywords\n",
    "\n",
    "def summarize_text(text, max_len=300):\n",
    "    try:\n",
    "        summary = summarize(text, word_count=200)  # Adjust word_count as needed\n",
    "        if len(summary) > max_len:\n",
    "            summary = summary[:max_len]\n",
    "        return summary\n",
    "    except ValueError:\n",
    "        # If summarize throws an error, return the first max_len characters of the text\n",
    "        return text[:max_len]\n",
    "\n",
    "def extract_keywords(text):\n",
    "    return keywords(text)\n",
    "\n",
    "def main():\n",
    "    try:\n",
    "        with open('dataset_43428_1.txt', 'r', encoding='utf-8') as reader:\n",
    "            texts = reader.read()\n",
    "        \n",
    "        texts = json.loads(texts)\n",
    "        \n",
    "        summaries = [summarize_text(text) for text in texts]\n",
    "        with open('result.json', 'w', encoding='utf-8') as writer:\n",
    "            json.dump(summaries, writer, ensure_ascii=False, indent=4)\n",
    "        \n",
    "        keywords_list = [extract_keywords(text) for text in texts]\n",
    "        with open('result_keywords.json', 'w', encoding='utf-8') as writer:\n",
    "            json.dump(keywords_list, writer, ensure_ascii=False, indent=4)\n",
    "        \n",
    "    except Exception as e:\n",
    "        print(f\"An error occurred: {e}\")\n",
    "\n",
    "if __name__ == \"__main__\":\n",
    "    main()\n",
    "\n"
   ]
  },
  {
   "cell_type": "code",
   "execution_count": 13,
   "id": "ee6276de-132a-4642-bdf4-081a4e54aa32",
   "metadata": {},
   "outputs": [],
   "source": [
    "# The score is 0.193"
   ]
  }
 ],
 "metadata": {
  "kernelspec": {
   "display_name": "Python 3 (ipykernel)",
   "language": "python",
   "name": "python3"
  },
  "language_info": {
   "codemirror_mode": {
    "name": "ipython",
    "version": 3
   },
   "file_extension": ".py",
   "mimetype": "text/x-python",
   "name": "python",
   "nbconvert_exporter": "python",
   "pygments_lexer": "ipython3",
   "version": "3.8.10"
  }
 },
 "nbformat": 4,
 "nbformat_minor": 5
}

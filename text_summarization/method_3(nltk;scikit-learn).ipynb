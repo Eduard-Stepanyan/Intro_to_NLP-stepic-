{
 "cells": [
  {
   "cell_type": "code",
   "execution_count": 1,
   "id": "4fcb4305-c793-43da-8120-f61f3fc51f24",
   "metadata": {},
   "outputs": [
    {
     "name": "stderr",
     "output_type": "stream",
     "text": [
      "[nltk_data] Downloading package punkt to /home/karpov/nltk_data...\n",
      "[nltk_data]   Unzipping tokenizers/punkt.zip.\n"
     ]
    }
   ],
   "source": [
    "import json\n",
    "import nltk\n",
    "from sklearn.feature_extraction.text import TfidfVectorizer\n",
    "from sklearn.cluster import KMeans\n",
    "\n",
    "nltk.download('punkt')\n",
    "\n",
    "def summarize_text(text, max_len=300):\n",
    "    sentences = nltk.sent_tokenize(text)\n",
    "    if len(sentences) <= 2:\n",
    "        return text[:max_len]\n",
    "    \n",
    "    vectorizer = TfidfVectorizer()\n",
    "    X = vectorizer.fit_transform(sentences)\n",
    "    \n",
    "    n_clusters = max(1, len(sentences) // 3)\n",
    "    kmeans = KMeans(n_clusters=n_clusters)\n",
    "    kmeans.fit(X)\n",
    "    \n",
    "    cluster_centers = kmeans.cluster_centers_\n",
    "    cluster_labels = kmeans.labels_\n",
    "    \n",
    "    summary_sentences = []\n",
    "    for i in range(n_clusters):\n",
    "        cluster_indices = [j for j, label in enumerate(cluster_labels) if label == i]\n",
    "        representative_index = cluster_indices[0]\n",
    "        summary_sentences.append(sentences[representative_index])\n",
    "    \n",
    "    summary = ' '.join(summary_sentences)\n",
    "    if len(summary) > max_len:\n",
    "        summary = summary[:max_len]\n",
    "    \n",
    "    return summary\n",
    "\n",
    "def main():\n",
    "    try:\n",
    "        with open('dataset_43428_6.txt', 'r', encoding='utf-8') as reader:\n",
    "            texts = reader.read()\n",
    "        \n",
    "        texts = json.loads(texts)\n",
    "        \n",
    "        summaries = [summarize_text(text) for text in texts]\n",
    "        with open('result3.json', 'w', encoding='utf-8') as writer:\n",
    "            json.dump(summaries, writer, ensure_ascii=False, indent=4)\n",
    "        \n",
    "    except Exception as e:\n",
    "        print(f\"An error occurred: {e}\")\n",
    "\n",
    "if __name__ == \"__main__\":\n",
    "    main()\n"
   ]
  },
  {
   "cell_type": "markdown",
   "id": "07e64282-2e85-4d8f-8ee9-a33081728f60",
   "metadata": {
    "jp-MarkdownHeadingCollapsed": true,
    "tags": []
   },
   "source": [
    "# The score is 0.137\n",
    "Этот код использует nltk для токенизации предложений и scikit-learn для векторизации текста и кластеризации предложений.\n",
    "\n",
    "Функция summarize_text:\n",
    "\n",
    "Токенизирует текст на предложения.\n",
    "Если предложений меньше или равно двум, возвращает первые 300 символов текста.\n",
    "Векторизует предложения, используя TF-IDF.\n",
    "Кластеризует предложения, используя K-Means.\n",
    "Выбирает по одному предложению из каждого кластера как наиболее представительное.\n",
    "Объединяет выбранные предложения в реферат.\n",
    "Если длина реферата превышает 300 символов, обрезает его.\n",
    "Функция main:\n",
    "\n",
    "Читает тексты из файла dataset_43428_6.txt.\n",
    "Применяет функцию summarize_text к каждому тексту.\n",
    "Записывает результаты в файл result3.json."
   ]
  }
 ],
 "metadata": {
  "kernelspec": {
   "display_name": "Python 3 (ipykernel)",
   "language": "python",
   "name": "python3"
  },
  "language_info": {
   "codemirror_mode": {
    "name": "ipython",
    "version": 3
   },
   "file_extension": ".py",
   "mimetype": "text/x-python",
   "name": "python",
   "nbconvert_exporter": "python",
   "pygments_lexer": "ipython3",
   "version": "3.8.10"
  }
 },
 "nbformat": 4,
 "nbformat_minor": 5
}
